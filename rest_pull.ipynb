{
 "cells": [
  {
   "cell_type": "code",
   "execution_count": 2,
   "metadata": {},
   "outputs": [
    {
     "ename": "ModuleNotFoundError",
     "evalue": "No module named 'arcgis'",
     "output_type": "error",
     "traceback": [
      "\u001b[0;31m---------------------------------------------------------------------------\u001b[0m",
      "\u001b[0;31mModuleNotFoundError\u001b[0m                       Traceback (most recent call last)",
      "Cell \u001b[0;32mIn[2], line 2\u001b[0m\n\u001b[1;32m      1\u001b[0m \u001b[39mimport\u001b[39;00m \u001b[39mpandas\u001b[39;00m \u001b[39mas\u001b[39;00m \u001b[39mpd\u001b[39;00m \n\u001b[0;32m----> 2\u001b[0m \u001b[39mfrom\u001b[39;00m \u001b[39marcgis\u001b[39;00m\u001b[39m.\u001b[39;00m\u001b[39mfeatures\u001b[39;00m \u001b[39mimport\u001b[39;00m FeatureLayer\n",
      "\u001b[0;31mModuleNotFoundError\u001b[0m: No module named 'arcgis'"
     ]
    }
   ],
   "source": [
    "import pandas as pd \n",
    "from arcgis.features import FeatureLayer"
   ]
  },
  {
   "cell_type": "code",
   "execution_count": null,
   "metadata": {},
   "outputs": [],
   "source": [
    "url = 'https://services1.arcgis.com/79kfd2K6fskCAkyg/arcgis/rest/services/FoodServiceData/FeatureServer/0'\n",
    "​\n",
    "batch_size = 1000  # Number of records to retrieve per batch\n",
    "offset = 0  # Initial offset value\n",
    "data_list = []\n",
    "​\n",
    "# Create the feature layer object\n",
    "feature_layer = FeatureLayer(url)\n",
    "​\n",
    "while True:\n",
    "    # Query the feature layer with pagination\n",
    "    query_result = feature_layer.query(where='1=1', out_fields='*', return_geometry=False, result_offset=offset, result_record_count=batch_size)\n",
    "    \n",
    "    # Retrieve the features from the query result\n",
    "    features = query_result.features\n",
    "    \n",
    "    # Process the data for the current batch\n",
    "    for feature in features:\n",
    "        data_list.append(feature.attributes)\n",
    "    \n",
    "    # Break the loop if the response is empty or the desired number of records is reached\n",
    "    if len(features) == 0 or len(data_list) >= 1000:\n",
    "        break\n",
    "    \n",
    "    # Increment the offset by the batch size\n",
    "    offset += batch_size\n",
    "​\n",
    "# Create a DataFrame from the data list\n",
    "df = pd.DataFrame(data_list)"
   ]
  }
 ],
 "metadata": {
  "kernelspec": {
   "display_name": "Python 3",
   "language": "python",
   "name": "python3"
  },
  "language_info": {
   "codemirror_mode": {
    "name": "ipython",
    "version": 3
   },
   "file_extension": ".py",
   "mimetype": "text/x-python",
   "name": "python",
   "nbconvert_exporter": "python",
   "pygments_lexer": "ipython3",
   "version": "3.9.2"
  },
  "orig_nbformat": 4
 },
 "nbformat": 4,
 "nbformat_minor": 2
}
