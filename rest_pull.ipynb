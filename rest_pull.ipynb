{
 "cells": [
  {
   "cell_type": "code",
   "execution_count": 32,
   "metadata": {},
   "outputs": [],
   "source": [
    "import pandas as pd \n",
    "# from arcgis.features import FeatureLayer"
   ]
  },
  {
   "cell_type": "code",
   "execution_count": 33,
   "metadata": {},
   "outputs": [],
   "source": [
    "# url = 'https://services1.arcgis.com/79kfd2K6fskCAkyg/arcgis/rest/services/FoodServiceData/FeatureServer/0'\n",
    "\n",
    "# batch_size = 1000  # Number of records to retrieve per batch\n",
    "# offset = 0  # Initial offset value\n",
    "# data_list = []\n",
    "# # ​Create the feature layer object\n",
    "# feature_layer = FeatureLayer(url)\n",
    "\n",
    "# while True:\n",
    "#     # Query the feature layer with pagination\n",
    "#     query_result = feature_layer.query(where='1=1', out_fields='*', return_geometry=False, result_offset=offset, result_record_count=batch_size)\n",
    "    \n",
    "#     # Retrieve the features from the query result\n",
    "#     features = query_result.features\n",
    "    \n",
    "#     # Process the data for the current batch\n",
    "#     for feature in features:\n",
    "#         data_list.append(feature.attributes)\n",
    "    \n",
    "#     # Break the loop if the response is empty or the desired number of records is reached\n",
    "#     if len(features) == 0 or len(data_list) >= 1000:\n",
    "#         break\n",
    "    \n",
    "#     # Increment the offset by the batch size\n",
    "#     offset += batch_size\n",
    "# # Create a DataFrame from the data list\n",
    "# df = pd.DataFrame(data_list)"
   ]
  },
  {
   "attachments": {},
   "cell_type": "markdown",
   "metadata": {},
   "source": [
    "Adove API call is working. I will use the CSV file so I dont keep pulling from the api while working on below logic. "
   ]
  },
  {
   "cell_type": "code",
   "execution_count": 34,
   "metadata": {},
   "outputs": [],
   "source": [
    "df = pd.read_csv(\"local_working.csv\")"
   ]
  },
  {
   "attachments": {},
   "cell_type": "markdown",
   "metadata": {},
   "source": [
    "Drops cols we don't need. "
   ]
  },
  {
   "cell_type": "code",
   "execution_count": 35,
   "metadata": {},
   "outputs": [],
   "source": [
    "cols_drop = ['EstablishmentID', 'InspectionID', 'PlaceName', 'Address2', 'TypeDescription', 'NameSearch', 'Intersection']\n",
    "df.drop(cols_drop, axis=1, inplace=True)"
   ]
  },
  {
   "cell_type": "code",
   "execution_count": 36,
   "metadata": {},
   "outputs": [],
   "source": [
    "# df.head(2)"
   ]
  },
  {
   "cell_type": "code",
   "execution_count": 37,
   "metadata": {},
   "outputs": [],
   "source": [
    "# df.shape"
   ]
  },
  {
   "cell_type": "code",
   "execution_count": 38,
   "metadata": {},
   "outputs": [
    {
     "data": {
      "text/html": [
       "<div>\n",
       "<style scoped>\n",
       "    .dataframe tbody tr th:only-of-type {\n",
       "        vertical-align: middle;\n",
       "    }\n",
       "\n",
       "    .dataframe tbody tr th {\n",
       "        vertical-align: top;\n",
       "    }\n",
       "\n",
       "    .dataframe thead th {\n",
       "        text-align: right;\n",
       "    }\n",
       "</style>\n",
       "<table border=\"1\" class=\"dataframe\">\n",
       "  <thead>\n",
       "    <tr style=\"text-align: right;\">\n",
       "      <th></th>\n",
       "      <th>Ins_TypeDesc</th>\n",
       "      <th>EstablishmentName</th>\n",
       "      <th>Address</th>\n",
       "      <th>City</th>\n",
       "      <th>State</th>\n",
       "      <th>Zip</th>\n",
       "      <th>InspectionDate</th>\n",
       "      <th>score</th>\n",
       "      <th>Grade</th>\n",
       "      <th>ObjectId</th>\n",
       "    </tr>\n",
       "  </thead>\n",
       "  <tbody>\n",
       "    <tr>\n",
       "      <th>0</th>\n",
       "      <td>REGULAR</td>\n",
       "      <td>MI SUENO RESTAURANT</td>\n",
       "      <td>3425 BARDSTOWN RD</td>\n",
       "      <td>LOUISVILLE</td>\n",
       "      <td>KY</td>\n",
       "      <td>40218</td>\n",
       "      <td>2023-04-18</td>\n",
       "      <td>70</td>\n",
       "      <td>C</td>\n",
       "      <td>4803</td>\n",
       "    </tr>\n",
       "    <tr>\n",
       "      <th>1</th>\n",
       "      <td>REGULAR</td>\n",
       "      <td>DAISUKI SUSHI</td>\n",
       "      <td>1604 BARDSTOWN RD</td>\n",
       "      <td>LOUISVILLE</td>\n",
       "      <td>KY</td>\n",
       "      <td>40205</td>\n",
       "      <td>2023-04-14</td>\n",
       "      <td>71</td>\n",
       "      <td>C</td>\n",
       "      <td>10803</td>\n",
       "    </tr>\n",
       "  </tbody>\n",
       "</table>\n",
       "</div>"
      ],
      "text/plain": [
       "  Ins_TypeDesc    EstablishmentName            Address        City State  \\\n",
       "0      REGULAR  MI SUENO RESTAURANT  3425 BARDSTOWN RD  LOUISVILLE    KY   \n",
       "1      REGULAR        DAISUKI SUSHI  1604 BARDSTOWN RD  LOUISVILLE    KY   \n",
       "\n",
       "     Zip InspectionDate  score Grade  ObjectId  \n",
       "0  40218     2023-04-18     70     C      4803  \n",
       "1  40205     2023-04-14     71     C     10803  "
      ]
     },
     "execution_count": 38,
     "metadata": {},
     "output_type": "execute_result"
    }
   ],
   "source": [
    "df['InspectionDate'] = pd.to_datetime(df['InspectionDate'])\n",
    "df.head(2)"
   ]
  },
  {
   "cell_type": "code",
   "execution_count": 39,
   "metadata": {},
   "outputs": [],
   "source": [
    "# df = df[(df['score'] != 0)]\n",
    "# df = df.sort_values(by='score', ascending=True)\n",
    "# # df = df.reset_index()\n",
    "# df"
   ]
  },
  {
   "cell_type": "code",
   "execution_count": 40,
   "metadata": {},
   "outputs": [],
   "source": [
    "# sorting inspection dates\n",
    "df.sort_values('InspectionDate', ascending=False, inplace=True)\n",
    "# dropping duplicate rest based on its first occurrence\n",
    "df.drop_duplicates(subset='EstablishmentName', keep='first', inplace=True)"
   ]
  },
  {
   "cell_type": "code",
   "execution_count": 41,
   "metadata": {},
   "outputs": [],
   "source": [
    "# testing the dups dropped\n",
    "# est_counts = df['EstablishmentName'].value_counts()\n",
    "# est_counts.plot()"
   ]
  },
  {
   "cell_type": "code",
   "execution_count": 42,
   "metadata": {},
   "outputs": [
    {
     "data": {
      "text/plain": [
       "(4076, 10)"
      ]
     },
     "execution_count": 42,
     "metadata": {},
     "output_type": "execute_result"
    }
   ],
   "source": [
    "# confirmed that the code worked with the shape of the df \n",
    "df.shape"
   ]
  },
  {
   "cell_type": "code",
   "execution_count": 43,
   "metadata": {},
   "outputs": [],
   "source": [
    "processed_data = df.to_json(orient='records')"
   ]
  },
  {
   "cell_type": "code",
   "execution_count": 44,
   "metadata": {},
   "outputs": [
    {
     "data": {
      "text/plain": [
       "score\n",
       "100    1521\n",
       "99      745\n",
       "98      598\n",
       "97      474\n",
       "96      323\n",
       "95      193\n",
       "94       95\n",
       "93       64\n",
       "92       29\n",
       "91       13\n",
       "90       11\n",
       "89        3\n",
       "84        2\n",
       "83        1\n",
       "87        1\n",
       "86        1\n",
       "85        1\n",
       "78        1\n",
       "dtype: int64"
      ]
     },
     "execution_count": 44,
     "metadata": {},
     "output_type": "execute_result"
    }
   ],
   "source": [
    "df.value_counts('score')"
   ]
  },
  {
   "cell_type": "code",
   "execution_count": 45,
   "metadata": {},
   "outputs": [],
   "source": [
    "df = df.sort_values(by='score', ascending=True)"
   ]
  },
  {
   "cell_type": "code",
   "execution_count": 46,
   "metadata": {},
   "outputs": [
    {
     "data": {
      "image/png": "[encoded data removed]",
      "text/plain": [
       "<Figure size 640x480 with 1 Axes>"
      ]
     },
     "metadata": {},
     "output_type": "display_data"
    }
   ],
   "source": [
    "df = df[0:10]\n",
    "df.plot.scatter( title = \"Lowest Restaurant Grades of the day\",x = 'EstablishmentName', y = 'score', rot = 'vertical', xlabel = \"\",);"
   ]
  }
 ],
 "metadata": {
  "kernelspec": {
   "display_name": "Python 3",
   "language": "python",
   "name": "python3"
  },
  "language_info": {
   "codemirror_mode": {
    "name": "ipython",
    "version": 3
   },
   "file_extension": ".py",
   "mimetype": "text/x-python",
   "name": "python",
   "nbconvert_exporter": "python",
   "pygments_lexer": "ipython3",
   "version": "3.9.2"
  },
  "orig_nbformat": 4
 },
 "nbformat": 4,
 "nbformat_minor": 2
}
