{
 "cells": [
  {
   "cell_type": "code",
   "execution_count": 1,
   "metadata": {},
   "outputs": [
    {
     "name": "stderr",
     "output_type": "stream",
     "text": [
      "/opt/anaconda3/lib/python3.9/site-packages/scipy/__init__.py:146: UserWarning: A NumPy version >=1.16.5 and <1.23.0 is required for this version of SciPy (detected version 1.23.5\n",
      "  warnings.warn(f\"A NumPy version >={np_minversion} and <{np_maxversion}\"\n"
     ]
    }
   ],
   "source": [
    "import pandas as pd \n",
    "import json\n",
    "from arcgis.features import FeatureLayer\n",
    "import requests\n",
    "import time"
   ]
  },
  {
   "attachments": {},
   "cell_type": "markdown",
   "metadata": {},
   "source": [
    "# API Call to Louisville Open Data. "
   ]
  },
  {
   "attachments": {},
   "cell_type": "markdown",
   "metadata": {},
   "source": [
    "| Steps      | Description | Notes     |\n",
    "| :---        |    :----   |          :--- |\n",
    "| 1. Open Data API call      | API call for restaurant inspection scores | Works   |\n",
    "| 2. Clean   | Remove un-needed data        | drop cols and sort data. Also ned to only keep the most recent scores      |"
   ]
  },
  {
   "cell_type": "code",
   "execution_count": 2,
   "metadata": {},
   "outputs": [],
   "source": [
    "url = 'https://services1.arcgis.com/79kfd2K6fskCAkyg/arcgis/rest/services/FoodServiceData/FeatureServer/0'\n",
    "\n",
    "batch_size = 1000  # Number of records to retrieve per batch\n",
    "offset = 0  # Initial offset value\n",
    "data_list = []\n",
    "# ​Create the feature layer object\n",
    "feature_layer = FeatureLayer(url)\n",
    "\n",
    "while True:\n",
    "    # Query the feature layer with pagination\n",
    "    query_result = feature_layer.query(where='1=1', out_fields='*', return_geometry=False, result_offset=offset, result_record_count=batch_size)\n",
    "    \n",
    "    # Retrieve the features from the query result\n",
    "    features = query_result.features\n",
    "    \n",
    "    # Process the data for the current batch\n",
    "    for feature in features:\n",
    "        data_list.append(feature.attributes)\n",
    "    \n",
    "    # Break the loop if the response is empty or the desired number of records is reached\n",
    "    if len(features) == 0 or len(data_list) >= 1000:\n",
    "        break\n",
    "    \n",
    "    # Increment the offset by the batch size\n",
    "    offset += batch_size\n",
    "# Create a DataFrame from the data list\n",
    "df = pd.DataFrame(data_list)"
   ]
  },
  {
   "attachments": {},
   "cell_type": "markdown",
   "metadata": {},
   "source": [
    "Verify the data comes in correct"
   ]
  },
  {
   "cell_type": "code",
   "execution_count": 3,
   "metadata": {},
   "outputs": [
    {
     "data": {
      "text/html": [
       "<div>\n",
       "<style scoped>\n",
       "    .dataframe tbody tr th:only-of-type {\n",
       "        vertical-align: middle;\n",
       "    }\n",
       "\n",
       "    .dataframe tbody tr th {\n",
       "        vertical-align: top;\n",
       "    }\n",
       "\n",
       "    .dataframe thead th {\n",
       "        text-align: right;\n",
       "    }\n",
       "</style>\n",
       "<table border=\"1\" class=\"dataframe\">\n",
       "  <thead>\n",
       "    <tr style=\"text-align: right;\">\n",
       "      <th></th>\n",
       "      <th>EstablishmentID</th>\n",
       "      <th>InspectionID</th>\n",
       "      <th>Ins_TypeDesc</th>\n",
       "      <th>EstablishmentName</th>\n",
       "      <th>PlaceName</th>\n",
       "      <th>Address</th>\n",
       "      <th>Address2</th>\n",
       "      <th>City</th>\n",
       "      <th>State</th>\n",
       "      <th>Zip</th>\n",
       "      <th>TypeDescription</th>\n",
       "      <th>InspectionDate</th>\n",
       "      <th>score</th>\n",
       "      <th>Grade</th>\n",
       "      <th>NameSearch</th>\n",
       "      <th>Intersection</th>\n",
       "      <th>ObjectId</th>\n",
       "    </tr>\n",
       "  </thead>\n",
       "  <tbody>\n",
       "    <tr>\n",
       "      <th>0</th>\n",
       "      <td>29956</td>\n",
       "      <td>1768584</td>\n",
       "      <td>REGULAR</td>\n",
       "      <td>CVS #6211</td>\n",
       "      <td>None</td>\n",
       "      <td>3721 LEXINGTON RD</td>\n",
       "      <td>None</td>\n",
       "      <td>LOUISVILLE</td>\n",
       "      <td>KY</td>\n",
       "      <td>40207</td>\n",
       "      <td>PRE-PACKAGED RETAIL</td>\n",
       "      <td>2023-06-30 00:00:00</td>\n",
       "      <td>100</td>\n",
       "      <td>None</td>\n",
       "      <td>CVS #6211</td>\n",
       "      <td>None</td>\n",
       "      <td>1</td>\n",
       "    </tr>\n",
       "    <tr>\n",
       "      <th>1</th>\n",
       "      <td>29967</td>\n",
       "      <td>1786484</td>\n",
       "      <td>REGULAR</td>\n",
       "      <td>NEIGHBORHOOD FOOD MART</td>\n",
       "      <td>None</td>\n",
       "      <td>542 LAMPTON ST</td>\n",
       "      <td>None</td>\n",
       "      <td>LOUISVILLE</td>\n",
       "      <td>KY</td>\n",
       "      <td>40203</td>\n",
       "      <td>SUPERMARKET WITH PROCESSING</td>\n",
       "      <td>2023-09-05 00:00:00</td>\n",
       "      <td>100</td>\n",
       "      <td>None</td>\n",
       "      <td>NEIGHBORHOOD FOOD MART</td>\n",
       "      <td>None</td>\n",
       "      <td>2</td>\n",
       "    </tr>\n",
       "    <tr>\n",
       "      <th>2</th>\n",
       "      <td>29979</td>\n",
       "      <td>1731827</td>\n",
       "      <td>REGULAR</td>\n",
       "      <td>CIRCLE K #4700075</td>\n",
       "      <td>None</td>\n",
       "      <td>1630 ARTHUR ST</td>\n",
       "      <td>None</td>\n",
       "      <td>LOUISVILLE</td>\n",
       "      <td>KY</td>\n",
       "      <td>40208</td>\n",
       "      <td>RETAIL-FOOD  10,000 SQ FT OR LESS</td>\n",
       "      <td>2023-01-27 00:00:00</td>\n",
       "      <td>95</td>\n",
       "      <td>A</td>\n",
       "      <td>CIRCLE K #4700075</td>\n",
       "      <td>None</td>\n",
       "      <td>3</td>\n",
       "    </tr>\n",
       "    <tr>\n",
       "      <th>3</th>\n",
       "      <td>29979</td>\n",
       "      <td>1731828</td>\n",
       "      <td>REGULAR</td>\n",
       "      <td>CIRCLE K #4700075</td>\n",
       "      <td>None</td>\n",
       "      <td>1630 ARTHUR ST</td>\n",
       "      <td>None</td>\n",
       "      <td>LOUISVILLE</td>\n",
       "      <td>KY</td>\n",
       "      <td>40208</td>\n",
       "      <td>RETAIL-FOOD  10,000 SQ FT OR LESS</td>\n",
       "      <td>2023-01-27 00:00:00</td>\n",
       "      <td>97</td>\n",
       "      <td>None</td>\n",
       "      <td>CIRCLE K #4700075</td>\n",
       "      <td>None</td>\n",
       "      <td>4</td>\n",
       "    </tr>\n",
       "    <tr>\n",
       "      <th>4</th>\n",
       "      <td>29979</td>\n",
       "      <td>1766455</td>\n",
       "      <td>REGULAR</td>\n",
       "      <td>CIRCLE K #4700075</td>\n",
       "      <td>None</td>\n",
       "      <td>1630 ARTHUR ST</td>\n",
       "      <td>None</td>\n",
       "      <td>LOUISVILLE</td>\n",
       "      <td>KY</td>\n",
       "      <td>40208</td>\n",
       "      <td>RETAIL-FOOD  10,000 SQ FT OR LESS</td>\n",
       "      <td>2023-06-21 00:00:00</td>\n",
       "      <td>98</td>\n",
       "      <td>A</td>\n",
       "      <td>CIRCLE K #4700075</td>\n",
       "      <td>None</td>\n",
       "      <td>5</td>\n",
       "    </tr>\n",
       "  </tbody>\n",
       "</table>\n",
       "</div>"
      ],
      "text/plain": [
       "   EstablishmentID  InspectionID Ins_TypeDesc       EstablishmentName  \\\n",
       "0            29956       1768584      REGULAR               CVS #6211   \n",
       "1            29967       1786484      REGULAR  NEIGHBORHOOD FOOD MART   \n",
       "2            29979       1731827      REGULAR       CIRCLE K #4700075   \n",
       "3            29979       1731828      REGULAR       CIRCLE K #4700075   \n",
       "4            29979       1766455      REGULAR       CIRCLE K #4700075   \n",
       "\n",
       "  PlaceName            Address Address2        City State    Zip  \\\n",
       "0      None  3721 LEXINGTON RD     None  LOUISVILLE    KY  40207   \n",
       "1      None     542 LAMPTON ST     None  LOUISVILLE    KY  40203   \n",
       "2      None     1630 ARTHUR ST     None  LOUISVILLE    KY  40208   \n",
       "3      None     1630 ARTHUR ST     None  LOUISVILLE    KY  40208   \n",
       "4      None     1630 ARTHUR ST     None  LOUISVILLE    KY  40208   \n",
       "\n",
       "                     TypeDescription       InspectionDate  score Grade  \\\n",
       "0                PRE-PACKAGED RETAIL  2023-06-30 00:00:00    100  None   \n",
       "1        SUPERMARKET WITH PROCESSING  2023-09-05 00:00:00    100  None   \n",
       "2  RETAIL-FOOD  10,000 SQ FT OR LESS  2023-01-27 00:00:00     95     A   \n",
       "3  RETAIL-FOOD  10,000 SQ FT OR LESS  2023-01-27 00:00:00     97  None   \n",
       "4  RETAIL-FOOD  10,000 SQ FT OR LESS  2023-06-21 00:00:00     98     A   \n",
       "\n",
       "               NameSearch Intersection  ObjectId  \n",
       "0               CVS #6211         None         1  \n",
       "1  NEIGHBORHOOD FOOD MART         None         2  \n",
       "2       CIRCLE K #4700075         None         3  \n",
       "3       CIRCLE K #4700075         None         4  \n",
       "4       CIRCLE K #4700075         None         5  "
      ]
     },
     "execution_count": 3,
     "metadata": {},
     "output_type": "execute_result"
    }
   ],
   "source": [
    "df.head()"
   ]
  },
  {
   "attachments": {},
   "cell_type": "markdown",
   "metadata": {},
   "source": [
    "Drops the extra cols we dont need. "
   ]
  },
  {
   "cell_type": "code",
   "execution_count": 4,
   "metadata": {},
   "outputs": [
    {
     "data": {
      "text/html": [
       "<div>\n",
       "<style scoped>\n",
       "    .dataframe tbody tr th:only-of-type {\n",
       "        vertical-align: middle;\n",
       "    }\n",
       "\n",
       "    .dataframe tbody tr th {\n",
       "        vertical-align: top;\n",
       "    }\n",
       "\n",
       "    .dataframe thead th {\n",
       "        text-align: right;\n",
       "    }\n",
       "</style>\n",
       "<table border=\"1\" class=\"dataframe\">\n",
       "  <thead>\n",
       "    <tr style=\"text-align: right;\">\n",
       "      <th></th>\n",
       "      <th>Ins_TypeDesc</th>\n",
       "      <th>EstablishmentName</th>\n",
       "      <th>Address</th>\n",
       "      <th>City</th>\n",
       "      <th>State</th>\n",
       "      <th>Zip</th>\n",
       "      <th>InspectionDate</th>\n",
       "      <th>score</th>\n",
       "      <th>Grade</th>\n",
       "      <th>ObjectId</th>\n",
       "    </tr>\n",
       "  </thead>\n",
       "  <tbody>\n",
       "    <tr>\n",
       "      <th>0</th>\n",
       "      <td>REGULAR</td>\n",
       "      <td>CVS #6211</td>\n",
       "      <td>3721 LEXINGTON RD</td>\n",
       "      <td>LOUISVILLE</td>\n",
       "      <td>KY</td>\n",
       "      <td>40207</td>\n",
       "      <td>2023-06-30 00:00:00</td>\n",
       "      <td>100</td>\n",
       "      <td>None</td>\n",
       "      <td>1</td>\n",
       "    </tr>\n",
       "    <tr>\n",
       "      <th>1</th>\n",
       "      <td>REGULAR</td>\n",
       "      <td>NEIGHBORHOOD FOOD MART</td>\n",
       "      <td>542 LAMPTON ST</td>\n",
       "      <td>LOUISVILLE</td>\n",
       "      <td>KY</td>\n",
       "      <td>40203</td>\n",
       "      <td>2023-09-05 00:00:00</td>\n",
       "      <td>100</td>\n",
       "      <td>None</td>\n",
       "      <td>2</td>\n",
       "    </tr>\n",
       "  </tbody>\n",
       "</table>\n",
       "</div>"
      ],
      "text/plain": [
       "  Ins_TypeDesc       EstablishmentName            Address        City State  \\\n",
       "0      REGULAR               CVS #6211  3721 LEXINGTON RD  LOUISVILLE    KY   \n",
       "1      REGULAR  NEIGHBORHOOD FOOD MART     542 LAMPTON ST  LOUISVILLE    KY   \n",
       "\n",
       "     Zip       InspectionDate  score Grade  ObjectId  \n",
       "0  40207  2023-06-30 00:00:00    100  None         1  \n",
       "1  40203  2023-09-05 00:00:00    100  None         2  "
      ]
     },
     "execution_count": 4,
     "metadata": {},
     "output_type": "execute_result"
    }
   ],
   "source": [
    "cols_drop = ['EstablishmentID', 'InspectionID', 'PlaceName', 'Address2', 'TypeDescription', 'NameSearch', 'Intersection']\n",
    "df.drop(cols_drop, axis=1, inplace=True)\n",
    "df.head(2)"
   ]
  },
  {
   "cell_type": "code",
   "execution_count": 5,
   "metadata": {},
   "outputs": [
    {
     "data": {
      "text/plain": [
       "(11036, 10)"
      ]
     },
     "execution_count": 5,
     "metadata": {},
     "output_type": "execute_result"
    }
   ],
   "source": [
    "df.shape"
   ]
  },
  {
   "attachments": {},
   "cell_type": "markdown",
   "metadata": {},
   "source": [
    "Converting InspectionDate to date time"
   ]
  },
  {
   "cell_type": "code",
   "execution_count": 6,
   "metadata": {},
   "outputs": [
    {
     "data": {
      "text/html": [
       "<div>\n",
       "<style scoped>\n",
       "    .dataframe tbody tr th:only-of-type {\n",
       "        vertical-align: middle;\n",
       "    }\n",
       "\n",
       "    .dataframe tbody tr th {\n",
       "        vertical-align: top;\n",
       "    }\n",
       "\n",
       "    .dataframe thead th {\n",
       "        text-align: right;\n",
       "    }\n",
       "</style>\n",
       "<table border=\"1\" class=\"dataframe\">\n",
       "  <thead>\n",
       "    <tr style=\"text-align: right;\">\n",
       "      <th></th>\n",
       "      <th>Ins_TypeDesc</th>\n",
       "      <th>EstablishmentName</th>\n",
       "      <th>Address</th>\n",
       "      <th>City</th>\n",
       "      <th>State</th>\n",
       "      <th>Zip</th>\n",
       "      <th>InspectionDate</th>\n",
       "      <th>score</th>\n",
       "      <th>Grade</th>\n",
       "      <th>ObjectId</th>\n",
       "    </tr>\n",
       "  </thead>\n",
       "  <tbody>\n",
       "    <tr>\n",
       "      <th>8321</th>\n",
       "      <td>REGULAR</td>\n",
       "      <td>HABESHA GROCERY &amp; RESTAURANT</td>\n",
       "      <td>7136 SOUTHSIDE DR</td>\n",
       "      <td>LOUISVILLE</td>\n",
       "      <td>KY</td>\n",
       "      <td>40214</td>\n",
       "      <td>2023-09-15</td>\n",
       "      <td>96</td>\n",
       "      <td>A</td>\n",
       "      <td>8322</td>\n",
       "    </tr>\n",
       "    <tr>\n",
       "      <th>690</th>\n",
       "      <td>REGULAR</td>\n",
       "      <td>SPEEDWAY #9645</td>\n",
       "      <td>7400 OLD 3RD STREET RD</td>\n",
       "      <td>LOUISVILLE</td>\n",
       "      <td>KY</td>\n",
       "      <td>40214</td>\n",
       "      <td>2023-09-15</td>\n",
       "      <td>99</td>\n",
       "      <td>A</td>\n",
       "      <td>691</td>\n",
       "    </tr>\n",
       "  </tbody>\n",
       "</table>\n",
       "</div>"
      ],
      "text/plain": [
       "     Ins_TypeDesc             EstablishmentName                 Address  \\\n",
       "8321      REGULAR  HABESHA GROCERY & RESTAURANT       7136 SOUTHSIDE DR   \n",
       "690       REGULAR                SPEEDWAY #9645  7400 OLD 3RD STREET RD   \n",
       "\n",
       "            City State    Zip InspectionDate  score Grade  ObjectId  \n",
       "8321  LOUISVILLE    KY  40214     2023-09-15     96     A      8322  \n",
       "690   LOUISVILLE    KY  40214     2023-09-15     99     A       691  "
      ]
     },
     "execution_count": 6,
     "metadata": {},
     "output_type": "execute_result"
    }
   ],
   "source": [
    "df['InspectionDate'] = pd.to_datetime(df['InspectionDate'])\n",
    "# sorting inspection dates\n",
    "df.sort_values('InspectionDate', ascending=False, inplace=True)\n",
    "# dropping duplicate rest based on its first occurrence\n",
    "df.drop_duplicates(subset='EstablishmentName', keep='first', inplace=True)\n",
    "df.head(2)"
   ]
  },
  {
   "cell_type": "code",
   "execution_count": 7,
   "metadata": {},
   "outputs": [
    {
     "data": {
      "text/plain": [
       "(4108, 10)"
      ]
     },
     "execution_count": 7,
     "metadata": {},
     "output_type": "execute_result"
    }
   ],
   "source": [
    "df.shape"
   ]
  },
  {
   "cell_type": "code",
   "execution_count": 8,
   "metadata": {},
   "outputs": [
    {
     "data": {
      "text/plain": [
       "EstablishmentName\n",
       "#1 CHINESE RESTAURANT         1\n",
       "PRICE ELEMENTARY SCHOOL       1\n",
       "PENDENNIS CLUB BAR            1\n",
       "PENN STATION                  1\n",
       "PENN STATION #5               1\n",
       "                             ..\n",
       "FROZEN DEE LITES              1\n",
       "FROZEN FLAKES                 1\n",
       "FRY DADDY'S                   1\n",
       "FRY FACTORY                   1\n",
       "ZOO WILD BURGER LOUISVILLE    1\n",
       "Length: 4108, dtype: int64"
      ]
     },
     "execution_count": 8,
     "metadata": {},
     "output_type": "execute_result"
    }
   ],
   "source": [
    "df.value_counts('EstablishmentName')"
   ]
  },
  {
   "cell_type": "markdown",
   "metadata": {},
   "source": []
  },
  {
   "cell_type": "code",
   "execution_count": 9,
   "metadata": {},
   "outputs": [
    {
     "data": {
      "text/html": [
       "<div>\n",
       "<style scoped>\n",
       "    .dataframe tbody tr th:only-of-type {\n",
       "        vertical-align: middle;\n",
       "    }\n",
       "\n",
       "    .dataframe tbody tr th {\n",
       "        vertical-align: top;\n",
       "    }\n",
       "\n",
       "    .dataframe thead th {\n",
       "        text-align: right;\n",
       "    }\n",
       "</style>\n",
       "<table border=\"1\" class=\"dataframe\">\n",
       "  <thead>\n",
       "    <tr style=\"text-align: right;\">\n",
       "      <th></th>\n",
       "      <th>Ins_TypeDesc</th>\n",
       "      <th>EstablishmentName</th>\n",
       "      <th>Address</th>\n",
       "      <th>City</th>\n",
       "      <th>State</th>\n",
       "      <th>Zip</th>\n",
       "      <th>InspectionDate</th>\n",
       "      <th>score</th>\n",
       "      <th>Grade</th>\n",
       "      <th>ObjectId</th>\n",
       "    </tr>\n",
       "  </thead>\n",
       "  <tbody>\n",
       "    <tr>\n",
       "      <th>10211</th>\n",
       "      <td>FOLLOWUP</td>\n",
       "      <td>MISS MARY'S CONVENIENCE STORE</td>\n",
       "      <td>500 S 20TH ST</td>\n",
       "      <td>LOUISVILLE</td>\n",
       "      <td>KY</td>\n",
       "      <td>40203</td>\n",
       "      <td>2023-07-14</td>\n",
       "      <td>0</td>\n",
       "      <td>None</td>\n",
       "      <td>10212</td>\n",
       "    </tr>\n",
       "    <tr>\n",
       "      <th>6730</th>\n",
       "      <td>FOLLOWUP</td>\n",
       "      <td>FAMILY TIES</td>\n",
       "      <td>1030 CECIL AVE</td>\n",
       "      <td>LOUISVILLE</td>\n",
       "      <td>KY</td>\n",
       "      <td>40211</td>\n",
       "      <td>2023-06-22</td>\n",
       "      <td>0</td>\n",
       "      <td>None</td>\n",
       "      <td>6731</td>\n",
       "    </tr>\n",
       "    <tr>\n",
       "      <th>8654</th>\n",
       "      <td>FOLLOWUP</td>\n",
       "      <td>SAGARMATHA GROCERY</td>\n",
       "      <td>4010 BARDSTOWN RD</td>\n",
       "      <td>LOUISVILLE</td>\n",
       "      <td>KY</td>\n",
       "      <td>40218</td>\n",
       "      <td>2023-04-13</td>\n",
       "      <td>0</td>\n",
       "      <td>None</td>\n",
       "      <td>8655</td>\n",
       "    </tr>\n",
       "  </tbody>\n",
       "</table>\n",
       "</div>"
      ],
      "text/plain": [
       "      Ins_TypeDesc              EstablishmentName            Address  \\\n",
       "10211     FOLLOWUP  MISS MARY'S CONVENIENCE STORE      500 S 20TH ST   \n",
       "6730      FOLLOWUP                    FAMILY TIES     1030 CECIL AVE   \n",
       "8654      FOLLOWUP             SAGARMATHA GROCERY  4010 BARDSTOWN RD   \n",
       "\n",
       "             City State    Zip InspectionDate  score Grade  ObjectId  \n",
       "10211  LOUISVILLE    KY  40203     2023-07-14      0  None     10212  \n",
       "6730   LOUISVILLE    KY  40211     2023-06-22      0  None      6731  \n",
       "8654   LOUISVILLE    KY  40218     2023-04-13      0  None      8655  "
      ]
     },
     "execution_count": 9,
     "metadata": {},
     "output_type": "execute_result"
    }
   ],
   "source": [
    "df = df.sort_values(by='score', ascending=True)\n",
    "df.head(3)"
   ]
  },
  {
   "cell_type": "code",
   "execution_count": 10,
   "metadata": {},
   "outputs": [],
   "source": [
    "df.to_json('../json_files/health.json')"
   ]
  },
  {
   "attachments": {},
   "cell_type": "markdown",
   "metadata": {},
   "source": [
    "# Yelp API "
   ]
  },
  {
   "attachments": {},
   "cell_type": "markdown",
   "metadata": {},
   "source": [
    "Imports my API key for yelp. "
   ]
  },
  {
   "cell_type": "code",
   "execution_count": 11,
   "metadata": {},
   "outputs": [],
   "source": [
    "from akeys import api_key"
   ]
  },
  {
   "cell_type": "code",
   "execution_count": 22,
   "metadata": {},
   "outputs": [
    {
     "name": "stdout",
     "output_type": "stream",
     "text": [
      "Error: 400 - {\"error\": {\"code\": \"VALIDATION_ERROR\", \"description\": \"Too many results requested, limit+offset must be <= 1000.\"}}\n"
     ]
    },
    {
     "data": {
      "text/html": [
       "<div>\n",
       "<style scoped>\n",
       "    .dataframe tbody tr th:only-of-type {\n",
       "        vertical-align: middle;\n",
       "    }\n",
       "\n",
       "    .dataframe tbody tr th {\n",
       "        vertical-align: top;\n",
       "    }\n",
       "\n",
       "    .dataframe thead th {\n",
       "        text-align: right;\n",
       "    }\n",
       "</style>\n",
       "<table border=\"1\" class=\"dataframe\">\n",
       "  <thead>\n",
       "    <tr style=\"text-align: right;\">\n",
       "      <th></th>\n",
       "      <th>Name</th>\n",
       "      <th>Rating</th>\n",
       "      <th>Review Count</th>\n",
       "      <th>Price</th>\n",
       "      <th>Address</th>\n",
       "    </tr>\n",
       "  </thead>\n",
       "  <tbody>\n",
       "    <tr>\n",
       "      <th>0</th>\n",
       "      <td>The Eagle</td>\n",
       "      <td>4.5</td>\n",
       "      <td>1562</td>\n",
       "      <td>$$</td>\n",
       "      <td>1314 Bardstown Rd, Louisville, KY 40204</td>\n",
       "    </tr>\n",
       "    <tr>\n",
       "      <th>1</th>\n",
       "      <td>Hammerheads</td>\n",
       "      <td>4.5</td>\n",
       "      <td>1338</td>\n",
       "      <td>$$</td>\n",
       "      <td>921 Swan St, Louisville, KY 40204</td>\n",
       "    </tr>\n",
       "    <tr>\n",
       "      <th>2</th>\n",
       "      <td>Oliver's Chop House &amp; Bourbon Bar</td>\n",
       "      <td>4.5</td>\n",
       "      <td>11</td>\n",
       "      <td>None</td>\n",
       "      <td>4520 Poplar Level Rd, Derby City Gaming Hotel,...</td>\n",
       "    </tr>\n",
       "  </tbody>\n",
       "</table>\n",
       "</div>"
      ],
      "text/plain": [
       "                                Name  Rating  Review Count Price  \\\n",
       "0                          The Eagle     4.5          1562    $$   \n",
       "1                        Hammerheads     4.5          1338    $$   \n",
       "2  Oliver's Chop House & Bourbon Bar     4.5            11  None   \n",
       "\n",
       "                                             Address  \n",
       "0            1314 Bardstown Rd, Louisville, KY 40204  \n",
       "1                  921 Swan St, Louisville, KY 40204  \n",
       "2  4520 Poplar Level Rd, Derby City Gaming Hotel,...  "
      ]
     },
     "execution_count": 22,
     "metadata": {},
     "output_type": "execute_result"
    }
   ],
   "source": [
    "api_key\n",
    "endpoint = \"businesses/search\"\n",
    "url = f\"https://api.yelp.com/v3/{endpoint}\"\n",
    "headers = {\n",
    "    \"Authorization\": f\"Bearer {api_key}\"\n",
    "}\n",
    "params = {\n",
    "    \"term\": \"restaurants\",\n",
    "    \"location\": \"Louisville, KY\",\n",
    "    \"limit\": 40  # Set the desired limit per request (maximum is 50)\n",
    "}\n",
    "\n",
    "restaurant_data = []  # List to store the extracted data\n",
    "\n",
    "offset = 0  # Initial offset value\n",
    "results_per_request = params[\"limit\"]  # Results per request (50)\n",
    "total_results = float(\"inf\")  # Initialize total_results to an arbitrary high value\n",
    "\n",
    "while offset < total_results:\n",
    "    params[\"offset\"] = offset  # Set the offset parameter\n",
    "    \n",
    "    response = requests.get(url, headers=headers, params=params)\n",
    "    \n",
    "    if response.status_code != 200:\n",
    "        print(f\"Error: {response.status_code} - {response.text}\")\n",
    "        break\n",
    "    \n",
    "    data = response.json()\n",
    "\n",
    "    if offset == 0:\n",
    "        total_results = data[\"total\"]\n",
    "    \n",
    "    businesses = data[\"businesses\"]\n",
    "    \n",
    "    for business in businesses:\n",
    "        name = business.get(\"name\")\n",
    "        rating = business.get(\"rating\")\n",
    "        review_count = business.get(\"review_count\")\n",
    "        price = business.get(\"price\")\n",
    "        address = \", \".join(business.get(\"location\", {}).get(\"display_address\", []))\n",
    "        restaurant_data.append({\n",
    "            \"Name\": name,\n",
    "            \"Rating\": rating,\n",
    "            \"Review Count\": review_count,\n",
    "            \"Price\": price,\n",
    "            \"Address\": address\n",
    "        })\n",
    "    offset += results_per_request  \n",
    "    time.sleep(2)  \n",
    "\n",
    "# Create a DataFrame from the extracted data\n",
    "df2 = pd.DataFrame(restaurant_data)\n",
    "\n",
    "# Print the DataFrame\n",
    "df2.head(3)"
   ]
  },
  {
   "cell_type": "code",
   "execution_count": 27,
   "metadata": {},
   "outputs": [],
   "source": [
    "df2.shape\n",
    "df2.to_csv('yelp.csv')"
   ]
  },
  {
   "cell_type": "code",
   "execution_count": 29,
   "metadata": {},
   "outputs": [
    {
     "ename": "FileNotFoundError",
     "evalue": "[Errno 2] No such file or directory: 'json_files/local_working.csv'",
     "output_type": "error",
     "traceback": [
      "\u001b[0;31m---------------------------------------------------------------------------\u001b[0m",
      "\u001b[0;31mFileNotFoundError\u001b[0m                         Traceback (most recent call last)",
      "\u001b[1;32m/Users/dannymorton/Documents/-restaurant_inspection_scores/clean_code/final.ipynb Cell 22\u001b[0m line \u001b[0;36m1\n\u001b[0;32m----> <a href='vscode-notebook-cell:/Users/dannymorton/Documents/-restaurant_inspection_scores/clean_code/final.ipynb#X41sZmlsZQ%3D%3D?line=0'>1</a>\u001b[0m df \u001b[39m=\u001b[39m pd\u001b[39m.\u001b[39;49mread_csv(\u001b[39m'\u001b[39;49m\u001b[39mjson_files/local_working.csv\u001b[39;49m\u001b[39m'\u001b[39;49m)\n\u001b[1;32m      <a href='vscode-notebook-cell:/Users/dannymorton/Documents/-restaurant_inspection_scores/clean_code/final.ipynb#X41sZmlsZQ%3D%3D?line=1'>2</a>\u001b[0m df2 \u001b[39m=\u001b[39m pd\u001b[39m.\u001b[39mread_csv(\u001b[39m'\u001b[39m\u001b[39mjson_files/yelp.csv\u001b[39m\u001b[39m'\u001b[39m)\n",
      "File \u001b[0;32m/opt/anaconda3/lib/python3.9/site-packages/pandas/util/_decorators.py:211\u001b[0m, in \u001b[0;36mdeprecate_kwarg.<locals>._deprecate_kwarg.<locals>.wrapper\u001b[0;34m(*args, **kwargs)\u001b[0m\n\u001b[1;32m    209\u001b[0m     \u001b[39melse\u001b[39;00m:\n\u001b[1;32m    210\u001b[0m         kwargs[new_arg_name] \u001b[39m=\u001b[39m new_arg_value\n\u001b[0;32m--> 211\u001b[0m \u001b[39mreturn\u001b[39;00m func(\u001b[39m*\u001b[39;49margs, \u001b[39m*\u001b[39;49m\u001b[39m*\u001b[39;49mkwargs)\n",
      "File \u001b[0;32m/opt/anaconda3/lib/python3.9/site-packages/pandas/util/_decorators.py:331\u001b[0m, in \u001b[0;36mdeprecate_nonkeyword_arguments.<locals>.decorate.<locals>.wrapper\u001b[0;34m(*args, **kwargs)\u001b[0m\n\u001b[1;32m    325\u001b[0m \u001b[39mif\u001b[39;00m \u001b[39mlen\u001b[39m(args) \u001b[39m>\u001b[39m num_allow_args:\n\u001b[1;32m    326\u001b[0m     warnings\u001b[39m.\u001b[39mwarn(\n\u001b[1;32m    327\u001b[0m         msg\u001b[39m.\u001b[39mformat(arguments\u001b[39m=\u001b[39m_format_argument_list(allow_args)),\n\u001b[1;32m    328\u001b[0m         \u001b[39mFutureWarning\u001b[39;00m,\n\u001b[1;32m    329\u001b[0m         stacklevel\u001b[39m=\u001b[39mfind_stack_level(),\n\u001b[1;32m    330\u001b[0m     )\n\u001b[0;32m--> 331\u001b[0m \u001b[39mreturn\u001b[39;00m func(\u001b[39m*\u001b[39;49margs, \u001b[39m*\u001b[39;49m\u001b[39m*\u001b[39;49mkwargs)\n",
      "File \u001b[0;32m/opt/anaconda3/lib/python3.9/site-packages/pandas/io/parsers/readers.py:950\u001b[0m, in \u001b[0;36mread_csv\u001b[0;34m(filepath_or_buffer, sep, delimiter, header, names, index_col, usecols, squeeze, prefix, mangle_dupe_cols, dtype, engine, converters, true_values, false_values, skipinitialspace, skiprows, skipfooter, nrows, na_values, keep_default_na, na_filter, verbose, skip_blank_lines, parse_dates, infer_datetime_format, keep_date_col, date_parser, dayfirst, cache_dates, iterator, chunksize, compression, thousands, decimal, lineterminator, quotechar, quoting, doublequote, escapechar, comment, encoding, encoding_errors, dialect, error_bad_lines, warn_bad_lines, on_bad_lines, delim_whitespace, low_memory, memory_map, float_precision, storage_options)\u001b[0m\n\u001b[1;32m    935\u001b[0m kwds_defaults \u001b[39m=\u001b[39m _refine_defaults_read(\n\u001b[1;32m    936\u001b[0m     dialect,\n\u001b[1;32m    937\u001b[0m     delimiter,\n\u001b[0;32m   (...)\u001b[0m\n\u001b[1;32m    946\u001b[0m     defaults\u001b[39m=\u001b[39m{\u001b[39m\"\u001b[39m\u001b[39mdelimiter\u001b[39m\u001b[39m\"\u001b[39m: \u001b[39m\"\u001b[39m\u001b[39m,\u001b[39m\u001b[39m\"\u001b[39m},\n\u001b[1;32m    947\u001b[0m )\n\u001b[1;32m    948\u001b[0m kwds\u001b[39m.\u001b[39mupdate(kwds_defaults)\n\u001b[0;32m--> 950\u001b[0m \u001b[39mreturn\u001b[39;00m _read(filepath_or_buffer, kwds)\n",
      "File \u001b[0;32m/opt/anaconda3/lib/python3.9/site-packages/pandas/io/parsers/readers.py:605\u001b[0m, in \u001b[0;36m_read\u001b[0;34m(filepath_or_buffer, kwds)\u001b[0m\n\u001b[1;32m    602\u001b[0m _validate_names(kwds\u001b[39m.\u001b[39mget(\u001b[39m\"\u001b[39m\u001b[39mnames\u001b[39m\u001b[39m\"\u001b[39m, \u001b[39mNone\u001b[39;00m))\n\u001b[1;32m    604\u001b[0m \u001b[39m# Create the parser.\u001b[39;00m\n\u001b[0;32m--> 605\u001b[0m parser \u001b[39m=\u001b[39m TextFileReader(filepath_or_buffer, \u001b[39m*\u001b[39;49m\u001b[39m*\u001b[39;49mkwds)\n\u001b[1;32m    607\u001b[0m \u001b[39mif\u001b[39;00m chunksize \u001b[39mor\u001b[39;00m iterator:\n\u001b[1;32m    608\u001b[0m     \u001b[39mreturn\u001b[39;00m parser\n",
      "File \u001b[0;32m/opt/anaconda3/lib/python3.9/site-packages/pandas/io/parsers/readers.py:1442\u001b[0m, in \u001b[0;36mTextFileReader.__init__\u001b[0;34m(self, f, engine, **kwds)\u001b[0m\n\u001b[1;32m   1439\u001b[0m     \u001b[39mself\u001b[39m\u001b[39m.\u001b[39moptions[\u001b[39m\"\u001b[39m\u001b[39mhas_index_names\u001b[39m\u001b[39m\"\u001b[39m] \u001b[39m=\u001b[39m kwds[\u001b[39m\"\u001b[39m\u001b[39mhas_index_names\u001b[39m\u001b[39m\"\u001b[39m]\n\u001b[1;32m   1441\u001b[0m \u001b[39mself\u001b[39m\u001b[39m.\u001b[39mhandles: IOHandles \u001b[39m|\u001b[39m \u001b[39mNone\u001b[39;00m \u001b[39m=\u001b[39m \u001b[39mNone\u001b[39;00m\n\u001b[0;32m-> 1442\u001b[0m \u001b[39mself\u001b[39m\u001b[39m.\u001b[39m_engine \u001b[39m=\u001b[39m \u001b[39mself\u001b[39;49m\u001b[39m.\u001b[39;49m_make_engine(f, \u001b[39mself\u001b[39;49m\u001b[39m.\u001b[39;49mengine)\n",
      "File \u001b[0;32m/opt/anaconda3/lib/python3.9/site-packages/pandas/io/parsers/readers.py:1735\u001b[0m, in \u001b[0;36mTextFileReader._make_engine\u001b[0;34m(self, f, engine)\u001b[0m\n\u001b[1;32m   1733\u001b[0m     \u001b[39mif\u001b[39;00m \u001b[39m\"\u001b[39m\u001b[39mb\u001b[39m\u001b[39m\"\u001b[39m \u001b[39mnot\u001b[39;00m \u001b[39min\u001b[39;00m mode:\n\u001b[1;32m   1734\u001b[0m         mode \u001b[39m+\u001b[39m\u001b[39m=\u001b[39m \u001b[39m\"\u001b[39m\u001b[39mb\u001b[39m\u001b[39m\"\u001b[39m\n\u001b[0;32m-> 1735\u001b[0m \u001b[39mself\u001b[39m\u001b[39m.\u001b[39mhandles \u001b[39m=\u001b[39m get_handle(\n\u001b[1;32m   1736\u001b[0m     f,\n\u001b[1;32m   1737\u001b[0m     mode,\n\u001b[1;32m   1738\u001b[0m     encoding\u001b[39m=\u001b[39;49m\u001b[39mself\u001b[39;49m\u001b[39m.\u001b[39;49moptions\u001b[39m.\u001b[39;49mget(\u001b[39m\"\u001b[39;49m\u001b[39mencoding\u001b[39;49m\u001b[39m\"\u001b[39;49m, \u001b[39mNone\u001b[39;49;00m),\n\u001b[1;32m   1739\u001b[0m     compression\u001b[39m=\u001b[39;49m\u001b[39mself\u001b[39;49m\u001b[39m.\u001b[39;49moptions\u001b[39m.\u001b[39;49mget(\u001b[39m\"\u001b[39;49m\u001b[39mcompression\u001b[39;49m\u001b[39m\"\u001b[39;49m, \u001b[39mNone\u001b[39;49;00m),\n\u001b[1;32m   1740\u001b[0m     memory_map\u001b[39m=\u001b[39;49m\u001b[39mself\u001b[39;49m\u001b[39m.\u001b[39;49moptions\u001b[39m.\u001b[39;49mget(\u001b[39m\"\u001b[39;49m\u001b[39mmemory_map\u001b[39;49m\u001b[39m\"\u001b[39;49m, \u001b[39mFalse\u001b[39;49;00m),\n\u001b[1;32m   1741\u001b[0m     is_text\u001b[39m=\u001b[39;49mis_text,\n\u001b[1;32m   1742\u001b[0m     errors\u001b[39m=\u001b[39;49m\u001b[39mself\u001b[39;49m\u001b[39m.\u001b[39;49moptions\u001b[39m.\u001b[39;49mget(\u001b[39m\"\u001b[39;49m\u001b[39mencoding_errors\u001b[39;49m\u001b[39m\"\u001b[39;49m, \u001b[39m\"\u001b[39;49m\u001b[39mstrict\u001b[39;49m\u001b[39m\"\u001b[39;49m),\n\u001b[1;32m   1743\u001b[0m     storage_options\u001b[39m=\u001b[39;49m\u001b[39mself\u001b[39;49m\u001b[39m.\u001b[39;49moptions\u001b[39m.\u001b[39;49mget(\u001b[39m\"\u001b[39;49m\u001b[39mstorage_options\u001b[39;49m\u001b[39m\"\u001b[39;49m, \u001b[39mNone\u001b[39;49;00m),\n\u001b[1;32m   1744\u001b[0m )\n\u001b[1;32m   1745\u001b[0m \u001b[39massert\u001b[39;00m \u001b[39mself\u001b[39m\u001b[39m.\u001b[39mhandles \u001b[39mis\u001b[39;00m \u001b[39mnot\u001b[39;00m \u001b[39mNone\u001b[39;00m\n\u001b[1;32m   1746\u001b[0m f \u001b[39m=\u001b[39m \u001b[39mself\u001b[39m\u001b[39m.\u001b[39mhandles\u001b[39m.\u001b[39mhandle\n",
      "File \u001b[0;32m/opt/anaconda3/lib/python3.9/site-packages/pandas/io/common.py:856\u001b[0m, in \u001b[0;36mget_handle\u001b[0;34m(path_or_buf, mode, encoding, compression, memory_map, is_text, errors, storage_options)\u001b[0m\n\u001b[1;32m    851\u001b[0m \u001b[39melif\u001b[39;00m \u001b[39misinstance\u001b[39m(handle, \u001b[39mstr\u001b[39m):\n\u001b[1;32m    852\u001b[0m     \u001b[39m# Check whether the filename is to be opened in binary mode.\u001b[39;00m\n\u001b[1;32m    853\u001b[0m     \u001b[39m# Binary mode does not support 'encoding' and 'newline'.\u001b[39;00m\n\u001b[1;32m    854\u001b[0m     \u001b[39mif\u001b[39;00m ioargs\u001b[39m.\u001b[39mencoding \u001b[39mand\u001b[39;00m \u001b[39m\"\u001b[39m\u001b[39mb\u001b[39m\u001b[39m\"\u001b[39m \u001b[39mnot\u001b[39;00m \u001b[39min\u001b[39;00m ioargs\u001b[39m.\u001b[39mmode:\n\u001b[1;32m    855\u001b[0m         \u001b[39m# Encoding\u001b[39;00m\n\u001b[0;32m--> 856\u001b[0m         handle \u001b[39m=\u001b[39m \u001b[39mopen\u001b[39;49m(\n\u001b[1;32m    857\u001b[0m             handle,\n\u001b[1;32m    858\u001b[0m             ioargs\u001b[39m.\u001b[39;49mmode,\n\u001b[1;32m    859\u001b[0m             encoding\u001b[39m=\u001b[39;49mioargs\u001b[39m.\u001b[39;49mencoding,\n\u001b[1;32m    860\u001b[0m             errors\u001b[39m=\u001b[39;49merrors,\n\u001b[1;32m    861\u001b[0m             newline\u001b[39m=\u001b[39;49m\u001b[39m\"\u001b[39;49m\u001b[39m\"\u001b[39;49m,\n\u001b[1;32m    862\u001b[0m         )\n\u001b[1;32m    863\u001b[0m     \u001b[39melse\u001b[39;00m:\n\u001b[1;32m    864\u001b[0m         \u001b[39m# Binary mode\u001b[39;00m\n\u001b[1;32m    865\u001b[0m         handle \u001b[39m=\u001b[39m \u001b[39mopen\u001b[39m(handle, ioargs\u001b[39m.\u001b[39mmode)\n",
      "\u001b[0;31mFileNotFoundError\u001b[0m: [Errno 2] No such file or directory: 'json_files/local_working.csv'"
     ]
    }
   ],
   "source": [
    "df = pd.read_csv('json_files/local_working.csv')\n",
    "df2 = pd.read_csv('json_files/yelp.csv')"
   ]
  },
  {
   "cell_type": "code",
   "execution_count": 20,
   "metadata": {},
   "outputs": [],
   "source": [
    "# # cols_drop = ['InspectionID', 'PlaceName', 'Address2', 'TypeDescription', 'NameSearch', 'Intersection']\n",
    "# # df.drop(cols_drop, axis=1, inplace=True)\n",
    "# df['InspectionDate'] = pd.to_datetime(df['InspectionDate'])\n",
    "# # Grouping by EstablishmentID and aggregating the necessary columns\n",
    "# df = df.groupby(\"EstablishmentID\").agg({\n",
    "#     \"EstablishmentName\": \"first\",\n",
    "#     \"Address\": \"first\",\n",
    "#     \"score\": lambda x: list(x)\n",
    "# })\n",
    "\n",
    "# # Sorting the establishments based on the count of low scores\n",
    "# df[\"low_score_count\"] = df[\"score\"].apply(lambda x: sum(score < 75 for score in x))\n",
    "# df = df.sort_values(\"low_score_count\", ascending=False)\n",
    "\n",
    "# # Creating the final DataFrame with the desired columns\n",
    "# df = df[[\"EstablishmentName\", \"Address\", \"score\"]]\n",
    "\n",
    "# # Printing the final DataFrame\n",
    "# df.head(10)"
   ]
  },
  {
   "attachments": {},
   "cell_type": "markdown",
   "metadata": {},
   "source": []
  },
  {
   "cell_type": "code",
   "execution_count": 19,
   "metadata": {},
   "outputs": [
    {
     "ename": "KeyError",
     "evalue": "'Rating'",
     "output_type": "error",
     "traceback": [
      "\u001b[0;31m---------------------------------------------------------------------------\u001b[0m",
      "\u001b[0;31mKeyError\u001b[0m                                  Traceback (most recent call last)",
      "File \u001b[0;32m/opt/anaconda3/lib/python3.9/site-packages/pandas/core/indexes/base.py:3802\u001b[0m, in \u001b[0;36mIndex.get_loc\u001b[0;34m(self, key, method, tolerance)\u001b[0m\n\u001b[1;32m   3801\u001b[0m \u001b[39mtry\u001b[39;00m:\n\u001b[0;32m-> 3802\u001b[0m     \u001b[39mreturn\u001b[39;00m \u001b[39mself\u001b[39;49m\u001b[39m.\u001b[39;49m_engine\u001b[39m.\u001b[39;49mget_loc(casted_key)\n\u001b[1;32m   3803\u001b[0m \u001b[39mexcept\u001b[39;00m \u001b[39mKeyError\u001b[39;00m \u001b[39mas\u001b[39;00m err:\n",
      "File \u001b[0;32m/opt/anaconda3/lib/python3.9/site-packages/pandas/_libs/index.pyx:138\u001b[0m, in \u001b[0;36mpandas._libs.index.IndexEngine.get_loc\u001b[0;34m()\u001b[0m\n",
      "File \u001b[0;32m/opt/anaconda3/lib/python3.9/site-packages/pandas/_libs/index.pyx:165\u001b[0m, in \u001b[0;36mpandas._libs.index.IndexEngine.get_loc\u001b[0;34m()\u001b[0m\n",
      "File \u001b[0;32mpandas/_libs/hashtable_class_helper.pxi:5745\u001b[0m, in \u001b[0;36mpandas._libs.hashtable.PyObjectHashTable.get_item\u001b[0;34m()\u001b[0m\n",
      "File \u001b[0;32mpandas/_libs/hashtable_class_helper.pxi:5753\u001b[0m, in \u001b[0;36mpandas._libs.hashtable.PyObjectHashTable.get_item\u001b[0;34m()\u001b[0m\n",
      "\u001b[0;31mKeyError\u001b[0m: 'Rating'",
      "\nThe above exception was the direct cause of the following exception:\n",
      "\u001b[0;31mKeyError\u001b[0m                                  Traceback (most recent call last)",
      "\u001b[1;32m/Users/dannymorton/Documents/-restaurant_inspection_scores/clean_code/final.ipynb Cell 23\u001b[0m line \u001b[0;36m2\n\u001b[1;32m      <a href='vscode-notebook-cell:/Users/dannymorton/Documents/-restaurant_inspection_scores/clean_code/final.ipynb#X30sZmlsZQ%3D%3D?line=0'>1</a>\u001b[0m df2 \u001b[39m=\u001b[39m df2\u001b[39m.\u001b[39msort_values(by\u001b[39m=\u001b[39m\u001b[39m\"\u001b[39m\u001b[39mRating\u001b[39m\u001b[39m\"\u001b[39m, ascending\u001b[39m=\u001b[39m\u001b[39mTrue\u001b[39;00m)\n\u001b[0;32m----> <a href='vscode-notebook-cell:/Users/dannymorton/Documents/-restaurant_inspection_scores/clean_code/final.ipynb#X30sZmlsZQ%3D%3D?line=1'>2</a>\u001b[0m df2 \u001b[39m=\u001b[39m df2\u001b[39m.\u001b[39mloc[df[\u001b[39m'\u001b[39;49m\u001b[39mRating\u001b[39;49m\u001b[39m'\u001b[39;49m] \u001b[39m!=\u001b[39m \u001b[39m0.0\u001b[39m]\n\u001b[1;32m      <a href='vscode-notebook-cell:/Users/dannymorton/Documents/-restaurant_inspection_scores/clean_code/final.ipynb#X30sZmlsZQ%3D%3D?line=2'>3</a>\u001b[0m df2 \u001b[39m=\u001b[39m df2\u001b[39m.\u001b[39mreset_index(drop\u001b[39m=\u001b[39m\u001b[39mTrue\u001b[39;00m)\n\u001b[1;32m      <a href='vscode-notebook-cell:/Users/dannymorton/Documents/-restaurant_inspection_scores/clean_code/final.ipynb#X30sZmlsZQ%3D%3D?line=3'>4</a>\u001b[0m df2[\u001b[39m'\u001b[39m\u001b[39mRating\u001b[39m\u001b[39m'\u001b[39m] \u001b[39m=\u001b[39m (df2[\u001b[39m'\u001b[39m\u001b[39mRating\u001b[39m\u001b[39m'\u001b[39m]\u001b[39m*\u001b[39m\u001b[39m20\u001b[39m)\u001b[39m.\u001b[39mastype(\u001b[39mint\u001b[39m)\n",
      "File \u001b[0;32m/opt/anaconda3/lib/python3.9/site-packages/pandas/core/frame.py:3807\u001b[0m, in \u001b[0;36mDataFrame.__getitem__\u001b[0;34m(self, key)\u001b[0m\n\u001b[1;32m   3805\u001b[0m \u001b[39mif\u001b[39;00m \u001b[39mself\u001b[39m\u001b[39m.\u001b[39mcolumns\u001b[39m.\u001b[39mnlevels \u001b[39m>\u001b[39m \u001b[39m1\u001b[39m:\n\u001b[1;32m   3806\u001b[0m     \u001b[39mreturn\u001b[39;00m \u001b[39mself\u001b[39m\u001b[39m.\u001b[39m_getitem_multilevel(key)\n\u001b[0;32m-> 3807\u001b[0m indexer \u001b[39m=\u001b[39m \u001b[39mself\u001b[39;49m\u001b[39m.\u001b[39;49mcolumns\u001b[39m.\u001b[39;49mget_loc(key)\n\u001b[1;32m   3808\u001b[0m \u001b[39mif\u001b[39;00m is_integer(indexer):\n\u001b[1;32m   3809\u001b[0m     indexer \u001b[39m=\u001b[39m [indexer]\n",
      "File \u001b[0;32m/opt/anaconda3/lib/python3.9/site-packages/pandas/core/indexes/base.py:3804\u001b[0m, in \u001b[0;36mIndex.get_loc\u001b[0;34m(self, key, method, tolerance)\u001b[0m\n\u001b[1;32m   3802\u001b[0m     \u001b[39mreturn\u001b[39;00m \u001b[39mself\u001b[39m\u001b[39m.\u001b[39m_engine\u001b[39m.\u001b[39mget_loc(casted_key)\n\u001b[1;32m   3803\u001b[0m \u001b[39mexcept\u001b[39;00m \u001b[39mKeyError\u001b[39;00m \u001b[39mas\u001b[39;00m err:\n\u001b[0;32m-> 3804\u001b[0m     \u001b[39mraise\u001b[39;00m \u001b[39mKeyError\u001b[39;00m(key) \u001b[39mfrom\u001b[39;00m \u001b[39merr\u001b[39;00m\n\u001b[1;32m   3805\u001b[0m \u001b[39mexcept\u001b[39;00m \u001b[39mTypeError\u001b[39;00m:\n\u001b[1;32m   3806\u001b[0m     \u001b[39m# If we have a listlike key, _check_indexing_error will raise\u001b[39;00m\n\u001b[1;32m   3807\u001b[0m     \u001b[39m#  InvalidIndexError. Otherwise we fall through and re-raise\u001b[39;00m\n\u001b[1;32m   3808\u001b[0m     \u001b[39m#  the TypeError.\u001b[39;00m\n\u001b[1;32m   3809\u001b[0m     \u001b[39mself\u001b[39m\u001b[39m.\u001b[39m_check_indexing_error(key)\n",
      "\u001b[0;31mKeyError\u001b[0m: 'Rating'"
     ]
    }
   ],
   "source": [
    "df2 = df2.sort_values(by=\"Rating\", ascending=True)\n",
    "df2 = df2.loc[df['Rating'] != 0.0]\n",
    "df2 = df2.reset_index(drop=True)\n",
    "df2['Rating'] = (df2['Rating']*20).astype(int)\n",
    "df2.head(3)\n",
    "df2.to_json('../json_files/yelp.json')"
   ]
  },
  {
   "cell_type": "code",
   "execution_count": null,
   "metadata": {},
   "outputs": [],
   "source": [
    "df2['Address'] = df2['Address'].str.split(',').str[0]\n",
    "df2['Rating'] = (df2['Rating']*20).astype(int)\n",
    "df2.head(3)"
   ]
  },
  {
   "cell_type": "code",
   "execution_count": null,
   "metadata": {},
   "outputs": [],
   "source": [
    "df['Address'] = df['Address'].str.lower().str.strip()\n",
    "df2['Address'] = df2['Address'].str.lower().str.strip()"
   ]
  },
  {
   "cell_type": "code",
   "execution_count": null,
   "metadata": {},
   "outputs": [],
   "source": [
    "merged_df = df.merge(df2, on='Address', how='left')\n",
    "merged_df = merged_df.sort_values('Rating', ascending=True)\n",
    "merged_df = merged_df[['EstablishmentName', 'Address', 'score', 'Rating', 'Review Count']]\n",
    "merged_df.head(3)"
   ]
  },
  {
   "cell_type": "code",
   "execution_count": null,
   "metadata": {},
   "outputs": [],
   "source": [
    "processed_data = merged_df.to_json(orient='records')"
   ]
  },
  {
   "cell_type": "code",
   "execution_count": null,
   "metadata": {},
   "outputs": [],
   "source": [
    "# Save the processed data as JSON to a file\n",
    "with open('json_files/processed_data.json', 'w') as file:\n",
    "    json.dump(processed_data, file)"
   ]
  }
 ],
 "metadata": {
  "kernelspec": {
   "display_name": "Python 3",
   "language": "python",
   "name": "python3"
  },
  "language_info": {
   "codemirror_mode": {
    "name": "ipython",
    "version": 3
   },
   "file_extension": ".py",
   "mimetype": "text/x-python",
   "name": "python",
   "nbconvert_exporter": "python",
   "pygments_lexer": "ipython3",
   "version": "3.9.7"
  },
  "orig_nbformat": 4
 },
 "nbformat": 4,
 "nbformat_minor": 2
}
